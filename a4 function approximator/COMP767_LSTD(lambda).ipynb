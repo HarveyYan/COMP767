{
  "nbformat": 4,
  "nbformat_minor": 0,
  "metadata": {
    "colab": {
      "name": "COMP767 LSTD(lambda)",
      "version": "0.3.2",
      "views": {},
      "default_view": {},
      "provenance": [],
      "collapsed_sections": []
    },
    "kernelspec": {
      "name": "python3",
      "display_name": "Python 3"
    }
  },
  "cells": [
    {
      "metadata": {
        "id": "pSoH2s1nOkT8",
        "colab_type": "text"
      },
      "cell_type": "markdown",
      "source": [
        "## Implement the LSTM($\\lambda$) off-line formulation and recursive formulation\n",
        "First define the FiveStates and MarkovChain Environment using gym interface"
      ]
    },
    {
      "metadata": {
        "id": "uqBCTwsQSVOr",
        "colab_type": "code",
        "colab": {
          "autoexec": {
            "startup": false,
            "wait_interval": 0
          },
          "output_extras": [
            {
              "item_id": 11
            }
          ],
          "base_uri": "https://localhost:8080/",
          "height": 408
        },
        "outputId": "627a1a16-a54b-4ad3-85f0-c5e37f293dd8",
        "executionInfo": {
          "status": "ok",
          "timestamp": 1521423090955,
          "user_tz": 240,
          "elapsed": 9300,
          "user": {
            "displayName": "Zichao Yan",
            "photoUrl": "//lh3.googleusercontent.com/-lUGgNeiX7v8/AAAAAAAAAAI/AAAAAAAAABE/6cWBoWlDDyc/s50-c-k-no/photo.jpg",
            "userId": "105794893504586740188"
          }
        }
      },
      "cell_type": "code",
      "source": [
        "!pip install gym\n",
        "!pip install matlibplot"
      ],
      "execution_count": 1,
      "outputs": [
        {
          "output_type": "stream",
          "text": [
            "Collecting gym\n",
            "  Downloading gym-0.10.4.tar.gz (1.5MB)\n",
            "\u001b[K    100% |████████████████████████████████| 1.5MB 821kB/s \n",
            "\u001b[?25hRequirement already satisfied: numpy>=1.10.4 in /usr/local/lib/python3.6/dist-packages (from gym)\n",
            "Collecting pyglet>=1.2.0 (from gym)\n",
            "  Downloading pyglet-1.3.1-py2.py3-none-any.whl (1.0MB)\n",
            "\u001b[K    100% |████████████████████████████████| 1.0MB 1.2MB/s \n",
            "\u001b[?25hRequirement already satisfied: requests>=2.0 in /usr/local/lib/python3.6/dist-packages (from gym)\n",
            "Requirement already satisfied: six in /usr/local/lib/python3.6/dist-packages (from gym)\n",
            "Requirement already satisfied: future in /usr/local/lib/python3.6/dist-packages (from pyglet>=1.2.0->gym)\n",
            "Requirement already satisfied: certifi>=2017.4.17 in /usr/local/lib/python3.6/dist-packages (from requests>=2.0->gym)\n",
            "Requirement already satisfied: urllib3<1.23,>=1.21.1 in /usr/local/lib/python3.6/dist-packages (from requests>=2.0->gym)\n",
            "Requirement already satisfied: chardet<3.1.0,>=3.0.2 in /usr/local/lib/python3.6/dist-packages (from requests>=2.0->gym)\n",
            "Requirement already satisfied: idna<2.7,>=2.5 in /usr/local/lib/python3.6/dist-packages (from requests>=2.0->gym)\n",
            "Building wheels for collected packages: gym\n",
            "  Running setup.py bdist_wheel for gym ... \u001b[?25l-\b \b\\\b \b|\b \b/\b \bdone\n",
            "\u001b[?25h  Stored in directory: /content/.cache/pip/wheels/55/10/54/738634b5a554fc825283685db35371481d66137018ad2c9365\n",
            "Successfully built gym\n",
            "Installing collected packages: pyglet, gym\n",
            "Successfully installed gym-0.10.4 pyglet-1.3.1\n",
            "Collecting matlibplot\n",
            "\u001b[31m  Could not find a version that satisfies the requirement matlibplot (from versions: )\u001b[0m\n",
            "\u001b[31mNo matching distribution found for matlibplot\u001b[0m\n"
          ],
          "name": "stdout"
        }
      ]
    },
    {
      "metadata": {
        "id": "eBz8pSQGN_kk",
        "colab_type": "code",
        "colab": {
          "autoexec": {
            "startup": false,
            "wait_interval": 0
          }
        }
      },
      "cell_type": "code",
      "source": [
        "import gym\n",
        "import numpy as np\n",
        "\n",
        "class FiveStates(gym.Env):\n",
        "    # doesn't support rendering\n",
        "    metadata = {'render.modes': []}\n",
        "    action_space = None\n",
        "\n",
        "    def __init__(self):\n",
        "        self.nb_states = 5\n",
        "        self.state = None\n",
        "        self.feature_dim = 5\n",
        "        self.observation_space = gym.spaces.Box(low=-np.inf, high=np.inf, shape=(self.feature_dim,), dtype=np.float)\n",
        "        self.state_transit_prob = [\n",
        "            [0.42, 0.13, 0.14, 0.03, 0.28],\n",
        "            [0.25, 0.08, 0.16, 0.35, 0.15],\n",
        "            [0.08, 0.20, 0.33, 0.17, 0.22],\n",
        "            [0.36, 0.05, 0.00, 0.51, 0.07],\n",
        "            [0.17, 0.24, 0.19, 0.18, 0.22]\n",
        "        ]\n",
        "        self.feature_vec = [\n",
        "            [74.29, 34.61, 73.48, 53.29, 7.79],\n",
        "            [61.60, 48.07, 34.68, 36.19, 82.02],\n",
        "            [97.00, 4.88, 8.51, 87.89, 5.17],\n",
        "            [41.10, 40.13, 64.63, 92.67, 31.09],\n",
        "            [7.76, 79.82, 43.78, 8.56, 61.11]\n",
        "        ]\n",
        "\n",
        "        self.reward = [\n",
        "            [104.66, 29.69, 82.36, 37.49, 68.82],\n",
        "            [75.86, 29.24, 100.37, 0.31, 35.99],\n",
        "            [57.68, 65.66, 56.95, 100.44, 47.63],\n",
        "            [96.23, 14.01, 0.88, 89.77, 66.77],\n",
        "            [70.35, 23.69, 73.41, 70.70, 85.41]\n",
        "        ]\n",
        "\n",
        "        # re-normalize transit_prob\n",
        "        self.state_transit_prob = [list(np.array(prob) / np.sum(prob)) for prob in self.state_transit_prob]\n",
        "\n",
        "    def step(self, action=None):\n",
        "        # next state\n",
        "        state_new = np.random.choice(np.arange(self.nb_states), 1, p=self.state_transit_prob[self.state])[0]\n",
        "        reward = self.reward[self.state][state_new]\n",
        "        self.state = state_new\n",
        "        return np.array(self.feature_vec[self.state]).reshape(-1, 1), reward, False, {}\n",
        "\n",
        "    def reset(self):\n",
        "        # random initial state\n",
        "        self.state = np.random.randint(self.nb_states)\n",
        "        return np.array(self.feature_vec[self.state]).reshape(-1, 1)\n",
        "\n",
        "    def render(self, mode=None):\n",
        "        pass\n",
        "\n",
        "\n",
        "class MarkovChain(gym.Env):\n",
        "\n",
        "    metadata = {'render.modes': []}\n",
        "    action_space = None\n",
        "\n",
        "    def __init__(self):\n",
        "        self.nb_states = 13\n",
        "        self.feature_dim = 4\n",
        "        self.observation_space = gym.spaces.Box(low=-np.inf, high=np.inf, shape=(self.feature_dim,), dtype=np.float)\n",
        "        self.feature_vec = [\n",
        "            [0, 0, 0, 0],\n",
        "            [0, 0, 1/4, 3/4],\n",
        "            [0, 0, 1/2, 1/2],\n",
        "            [0, 0, 3/4, 1/4],\n",
        "            [0, 0, 1, 0],\n",
        "            [0, 1/4, 3/4, 0],\n",
        "            [0, 1/2, 1/2, 0],\n",
        "            [0, 3/4, 1/4, 0],\n",
        "            [0, 1, 0, 0],\n",
        "            [1/4, 3/4, 0, 0],\n",
        "            [1/2, 1/2, 0, 0],\n",
        "            [3/4, 1/4, 0, 0],\n",
        "            [1, 0, 0, 0]\n",
        "        ]\n",
        "        self.state_transit_prob = None\n",
        "        self.reward = None\n",
        "        self.state = None\n",
        "        self._init_trans_prob_and_reward()\n",
        "\n",
        "    def _init_trans_prob_and_reward(self):\n",
        "        self.state_transit_prob = np.zeros((self.nb_states, self.nb_states))\n",
        "        self.reward = np.zeros((self.nb_states, self.nb_states))\n",
        "        for i in range(self.nb_states-1, 1, -1):\n",
        "            self.state_transit_prob[i][i-1] = 0.5\n",
        "            self.reward[i][i-1] = -3\n",
        "            self.state_transit_prob[i][i-2] = 0.5\n",
        "            self.reward[i][i-2] = -3\n",
        "        self.state_transit_prob[1][0] = 1\n",
        "        self.reward[1][0] = -2\n",
        "\n",
        "    def step(self, action=None):\n",
        "        state_new = np.random.choice(np.arange(self.nb_states), 1, p=self.state_transit_prob[self.state])[0]\n",
        "        reward = self.reward[self.state][state_new]\n",
        "        self.state = state_new\n",
        "        isstop = False\n",
        "        if self.state == 0:\n",
        "            isstop = True\n",
        "        return np.array(self.feature_vec[self.state]).reshape(-1, 1), reward, isstop, {}\n",
        "\n",
        "    def reset(self):\n",
        "        # the starting state\n",
        "        self.state = 12\n",
        "        return np.array(self.feature_vec[self.state]).reshape(-1,1)\n",
        "\n",
        "    def render(self, mode=None):\n",
        "        pass"
      ],
      "execution_count": 0,
      "outputs": []
    },
    {
      "metadata": {
        "id": "QEjziOmk4yuk",
        "colab_type": "text"
      },
      "cell_type": "markdown",
      "source": [
        "## offline LSTD(lambda) and online LSTD(lambda)"
      ]
    },
    {
      "metadata": {
        "id": "qH7ChZTWSRh0",
        "colab_type": "code",
        "colab": {
          "autoexec": {
            "startup": false,
            "wait_interval": 0
          }
        }
      },
      "cell_type": "code",
      "source": [
        "def LSTD_lambda_offline(env, lambd=0.4, discount = 0.9, iterations=10000, timesteps=1000):\n",
        "    '''\n",
        "    Do not use discount for episodic task in the offline formula.\n",
        "    :param env: FiveStates or Markov Chain\n",
        "    :param lambd: TD(lambda) hyperparameter, paper reported that 0.4 is optimal\n",
        "    :param discount: only useful for ergodic task, aka the FiveStates problem\n",
        "    :param iterations: number of trajectories to experiment\n",
        "    :param timesteps: maximum time steps for each trajectory\n",
        "    :return: learned parameters\n",
        "    '''\n",
        "    if isinstance(env, MarkovChain):\n",
        "        discount = 1\n",
        "    feature_dim = env.feature_dim\n",
        "    A = np.zeros((feature_dim, feature_dim))\n",
        "    b = np.zeros((feature_dim, 1))\n",
        "    for run in range(iterations):\n",
        "        # independent trajectory\n",
        "        obs = env.reset() # trace vector\n",
        "        z = obs\n",
        "        for t in range(timesteps):\n",
        "            new_obs, reward, done, info = env.step()\n",
        "            A += np.dot(z,np.transpose((obs - discount*new_obs)))\n",
        "            b += z*reward\n",
        "            z = discount*lambd*z + new_obs\n",
        "            obs = new_obs\n",
        "            if done is True:\n",
        "                break\n",
        "    theta = np.dot(np.linalg.inv(A),b)\n",
        "    return theta\n",
        "\n",
        "\n",
        "def LSTD_lambda_online(env, lambd=0.4, epsilon=0.1, discount = 0.9, iterations=10000, timesteps=1000):\n",
        "    '''\n",
        "    incremental version using the Sherman-Morrison rule\n",
        "    :param env: FiveStates or Markov Chain\n",
        "    :param lambd: TD(lambda) hyperparameter, paper reported that 0.4 is optimal\n",
        "    :param discount: only useful for ergodic task, aka the FiveStates problem\n",
        "    :param iterations: number of trajectories to experiment\n",
        "    :param timesteps: maximum time steps for each trajectory\n",
        "    :return: learned parameters\n",
        "    '''\n",
        "    if isinstance(env, MarkovChain):\n",
        "        discount = 1\n",
        "    thetas = []\n",
        "    feature_dim = env.feature_dim\n",
        "    optimal_theta = np.array([-24, -16, -8, 0]).reshape(-1, 1)\n",
        "    A = epsilon*np.eye(feature_dim)\n",
        "    b = np.zeros((feature_dim, 1))\n",
        "    for run in range(iterations):\n",
        "        # independent trajectory\n",
        "        obs = env.reset()  # trace vector\n",
        "        z = obs\n",
        "        for t in range(timesteps):\n",
        "            new_obs, reward, done, info = env.step()\n",
        "            v = np.dot(A.T, (obs-discount*new_obs))\n",
        "            A -= np.dot(np.dot(A, z), v.T)/(1+np.dot(v.T, z))\n",
        "            b += z * reward\n",
        "            theta = np.dot(A, b)\n",
        "            thetas.append(theta)\n",
        "            z = discount*lambd * z + new_obs\n",
        "            obs = new_obs\n",
        "            if done is True:\n",
        "                break\n",
        "    return thetas"
      ],
      "execution_count": 0,
      "outputs": []
    },
    {
      "metadata": {
        "id": "oMxosxgu5Lqr",
        "colab_type": "text"
      },
      "cell_type": "markdown",
      "source": [
        "Prelinminary experiments on MarkovChain example\n",
        "\n",
        "*   lambda is set to 0.4 for both case\n",
        "*   not discounted; for five states (which is an ergodic task) discounting would be necessary\n",
        "\n"
      ]
    },
    {
      "metadata": {
        "id": "jG3xpgn-5HP9",
        "colab_type": "code",
        "colab": {
          "autoexec": {
            "startup": false,
            "wait_interval": 0
          },
          "output_extras": [
            {
              "item_id": 2
            },
            {
              "item_id": 3
            },
            {
              "item_id": 4
            }
          ],
          "base_uri": "https://localhost:8080/",
          "height": 512
        },
        "outputId": "0610ae23-dbc1-4ce1-ec2b-3f5cbed8bb8f",
        "executionInfo": {
          "status": "ok",
          "timestamp": 1521425379255,
          "user_tz": 240,
          "elapsed": 1816,
          "user": {
            "displayName": "Zichao Yan",
            "photoUrl": "//lh3.googleusercontent.com/-lUGgNeiX7v8/AAAAAAAAAAI/AAAAAAAAABE/6cWBoWlDDyc/s50-c-k-no/photo.jpg",
            "userId": "105794893504586740188"
          }
        }
      },
      "cell_type": "code",
      "source": [
        "import matplotlib.pyplot as plt\n",
        "feature_dim = 4\n",
        "optimal_theta = np.array([-24, -16, -8, 0]).reshape(-1, 1)\n",
        "print('offline LSTD(lambda) over 1000 trajectories')\n",
        "theta = LSTD_lambda_offline(MarkovChain(), iterations=1000)\n",
        "print('learned theta:')\n",
        "print(list(theta.reshape(-1)))\n",
        "# calculate RMS error\n",
        "rmse = np.sqrt(np.sum(np.square(theta - optimal_theta)) / feature_dim)\n",
        "print('RMSE',rmse)\n",
        "\n",
        "print('online LSTD(lambda)')\n",
        "thetas = LSTD_lambda_online(MarkovChain(), iterations=1000)\n",
        "rmses = [np.sqrt(np.sum(np.square(theta - optimal_theta)) / feature_dim) for theta in thetas]\n",
        "plt.figure()\n",
        "plt.title('online LSTD(lambda) over 1000 trajectories')\n",
        "plt.ylabel('RMSE')\n",
        "plt.xlabel('time steps')\n",
        "plt.plot(rmses)\n",
        "plt.show()\n",
        "print('final learned theta')\n",
        "print(list(thetas[-1].reshape(-1)))\n",
        "print('final rmse', rmses[-1])"
      ],
      "execution_count": 13,
      "outputs": [
        {
          "output_type": "stream",
          "text": [
            "offline LSTD(lambda) over 1000 trajectories\n",
            "learned theta:\n",
            "[-24.0897531848506, -15.998537642753215, -8.035053456017526, -0.010762438525590667]\n",
            "RMSE 0.048482851456295904\n",
            "online LSTD(lambda)\n"
          ],
          "name": "stdout"
        },
        {
          "output_type": "display_data",
          "data": {
            "image/png": "[encoded data removed]",
            "text/plain": [
              "<matplotlib.figure.Figure at 0x7fa244bcaa90>"
            ]
          },
          "metadata": {
            "tags": []
          }
        },
        {
          "output_type": "stream",
          "text": [
            "final learned theta\n",
            "[-23.616321745968804, -15.89774737669852, -7.898758087919651, -0.04655699741193331]\n",
            "final rmse 0.20620504380237709\n"
          ],
          "name": "stdout"
        }
      ]
    },
    {
      "metadata": {
        "id": "FqbCEHgPArjB",
        "colab_type": "text"
      },
      "cell_type": "markdown",
      "source": [
        "On FiveStates example"
      ]
    },
    {
      "metadata": {
        "id": "QCII_RSw5fBj",
        "colab_type": "code",
        "colab": {
          "autoexec": {
            "startup": false,
            "wait_interval": 0
          },
          "output_extras": [
            {
              "item_id": 3
            }
          ],
          "base_uri": "https://localhost:8080/",
          "height": 119
        },
        "outputId": "7d125bcd-91be-42bc-b2ff-f5bf488ebca7",
        "executionInfo": {
          "status": "ok",
          "timestamp": 1521425494627,
          "user_tz": 240,
          "elapsed": 11043,
          "user": {
            "displayName": "Zichao Yan",
            "photoUrl": "//lh3.googleusercontent.com/-lUGgNeiX7v8/AAAAAAAAAAI/AAAAAAAAABE/6cWBoWlDDyc/s50-c-k-no/photo.jpg",
            "userId": "105794893504586740188"
          }
        }
      },
      "cell_type": "code",
      "source": [
        "feature_dim = 5\n",
        "# we don't know the optimal theta for FiveStates example\n",
        "print('offline LSTD(lambda) over 100 trajectories')\n",
        "theta = LSTD_lambda_offline(FiveStates(), iterations=100)\n",
        "print('learned theta:')\n",
        "print(list(theta.reshape(-1)))\n",
        "\n",
        "print('online LSTD(lambda) over 100 tracjectories')\n",
        "thetas = LSTD_lambda_online(FiveStates(), iterations=100)\n",
        "print('final learned theta')\n",
        "print(list(thetas[-1].reshape(-1)))"
      ],
      "execution_count": 15,
      "outputs": [
        {
          "output_type": "stream",
          "text": [
            "offline LSTD(lambda) over 100 trajectories\n",
            "learned theta:\n",
            "[3.9923729702586725, 9.357850905734562, -0.9251141331281509, 3.140499497397901, -1.1296970944329203]\n",
            "online LSTD(lambda) over 100 tracjectories\n",
            "final learned theta\n",
            "[3.9920780505291242, 9.377646076509503, -0.927521384103855, 3.142860529674409, -1.1423204842899803]\n"
          ],
          "name": "stdout"
        }
      ]
    },
    {
      "metadata": {
        "id": "7dBsTG_SB1NB",
        "colab_type": "text"
      },
      "cell_type": "markdown",
      "source": [
        "## Reproduce Experiments"
      ]
    },
    {
      "metadata": {
        "id": "80zhRBDnBZTU",
        "colab_type": "code",
        "colab": {
          "autoexec": {
            "startup": false,
            "wait_interval": 0
          }
        }
      },
      "cell_type": "code",
      "source": [
        ""
      ],
      "execution_count": 0,
      "outputs": []
    }
  ]
}