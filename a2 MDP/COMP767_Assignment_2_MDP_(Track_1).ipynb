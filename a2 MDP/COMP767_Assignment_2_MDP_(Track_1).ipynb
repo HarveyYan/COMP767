{
  "nbformat": 4,
  "nbformat_minor": 0,
  "metadata": {
    "colab": {
      "name": "COMP767 Assignment 2 - MDP (Track 1)",
      "version": "0.3.2",
      "views": {},
      "default_view": {},
      "provenance": [],
      "collapsed_sections": []
    },
    "kernelspec": {
      "name": "python3",
      "display_name": "Python 3"
    }
  },
  "cells": [
    {
      "metadata": {
        "id": "hhHyCOZglf7m",
        "colab_type": "text"
      },
      "cell_type": "markdown",
      "source": [
        "## 1. Bellman Optimality Equations\n",
        "$$\n",
        "\\begin{align}\n",
        "\\epsilon_{k+1}&= \\quad || v_{k+1}(s)-v_{*}(s)||_{\\infty}\\quad\\\\\n",
        "&= \\quad \\max\\limits_s(\\vert\\max\\limits_a(\\sum\\limits_{s',r}P(s',r|s,a)[r+\\gamma\\cdot v_{k}(s')] - \\max\\limits_a'(\\sum\\limits_{s',r}P(s',r|s,a')[r+\\gamma\\cdot v_{*}(s')]\\vert)\\\\\n",
        "&= \\quad \\max\\limits_s(\\vert\\max\\limits_{a}(\\sum\\limits_{s',r}P(s',r|s,a) \\cdot \\gamma \\cdot[v_k(s')-v_*(s')])\\vert)\\\\\n",
        "&\\leq \\quad \\gamma \\cdot\\vert \\max_{s'}[v_k(s')-v_*(s')] \\vert\\\\\n",
        "&= \\quad\\gamma\\cdot||v_k(s)-v_*(s)||_{\\infty}\\\\\n",
        "&= \\quad \\gamma \\cdot \\epsilon_{k} \\quad \\gamma \\in (0,1), k=1...T\\\\\n",
        "&s.t. \\quad \\epsilon_{k+1} \\leq \\gamma^k \\epsilon_1\n",
        "\\end{align}\n",
        "$$"
      ]
    },
    {
      "metadata": {
        "id": "zooOwVfJ8vQ3",
        "colab_type": "text"
      },
      "cell_type": "markdown",
      "source": [
        "Therefore Bellman optimality equation converges."
      ]
    },
    {
      "metadata": {
        "id": "vaN7VcXxpVGo",
        "colab_type": "text"
      },
      "cell_type": "markdown",
      "source": [
        "## 2. Policy Iteration\n",
        "## 2.1 Policy Improvement Guarantees\n",
        "Let's say we have an old policy $\\pi$ and a changed policy $\\pi'$. \n",
        "\n",
        "In policy improvement phase, $\\pi'(s)=\\max\\limits_aq_\\pi(s,a)$, for $s \\in S$.\n",
        "\n",
        "So, $v_\\pi(s) \\leq q_\\pi(s,\\pi'(s))$, that is to say, the old policy can be improved by choosing a new immediate action denoted as $\\pi'(s)$ and then follows itself again.\n",
        "\n",
        "Therefore it follows that:\n",
        "\n",
        "$$\n",
        "\\begin{align}\n",
        "v_\\pi(s) \\quad &\\leq \\quad q_\\pi(s,\\pi'(s))\\\\\n",
        "&= \\quad \\mathop{\\mathbb{E}_{\\pi'}}[R_{t+1}+\\gamma\\cdot v_\\pi(S_{t+1})\\mid S_t=s]\\\\\n",
        "&\\leq \\quad \\mathop{\\mathbb{E}_{\\pi'}}[R_{t+1}+ \\gamma\\cdot q_\\pi(S_{t+1},\\pi'(S_{t+1}))\\mid S_t=s]\\\\\n",
        "&= \\quad \\mathop{\\mathbb{E}_{\\pi'}}[R_{t+1}+\\gamma\\cdot\\mathop{\\mathbb{E}_{\\pi'}}[R_{t+2}+\\gamma\\cdot v_\\pi(S_{t+2})\\mid S_t=s]\\\\\n",
        "&=\\quad \\mathop{\\mathbb{E}_{\\pi'}}[R_{t+1}+\\gamma\\cdot R_{t+2}+\\gamma^2\\cdot v_\\pi(S_{t+2})\\mid S_t=s]\\\\\n",
        "&...\\\\\n",
        "&\\leq \\quad \\mathop{\\mathbb{E}_{\\pi'}}[R_{t+1}+\\gamma\\cdot R_{t+2} + \\gamma ^2\\cdot R_{t+3}...\\mid S_t=s]\\\\\n",
        "&= \\quad v_{\\pi'}(s)\n",
        "\\end{align}\n",
        "$$"
      ]
    },
    {
      "metadata": {
        "id": "EKzFw_Bp80eh",
        "colab_type": "text"
      },
      "cell_type": "markdown",
      "source": [
        "which holds true for all $s \\in S$, and note that $S_{t+1}$, $S_{t+2}$...are random variables. This demonstrates that the policy is always improving.\n",
        "\n",
        "## 2.2 Finite iteration\n",
        "\n",
        "A finite MDP has a finite number of states thus a finite number of policies. Policy iteration can go thourgh each one of them and it is inevitable that the algorithm finds one of the optimal policies in seom number of iterations. And once it finds that policy, the value function is optimal hence stops improving, making the policy stable therefore the algorithm terminates.\n",
        "\n",
        "## 2.3 Optimal Policy Guarantees\n",
        "\n",
        "If $v_{\\pi'}(s)=v_\\pi(s)$ for all $s \\in S$, then: $\\pi'(s)=\\max\\limits_aq_\\pi(s,a) = \\max\\limits_a\\sum\\limits_{s',r}p(s',r\\mid s,a)[r+\\gamma\\cdot v_{\\pi}(s')]$, for all $s \\in S$, which is exactly the Bellman optimality equation, therefore $v_{\\pi'}$ must be the optimal policy $v_*$; so does $v_\\pi$."
      ]
    },
    {
      "metadata": {
        "id": "KY5u0G2S82vd",
        "colab_type": "text"
      },
      "cell_type": "markdown",
      "source": [
        "## 3 Policy Iteration, Value Iteration and Improved Iteration algorithms\n",
        "### 3.1 Simple MDP"
      ]
    },
    {
      "metadata": {
        "id": "h-IGd_Ow3exw",
        "colab_type": "code",
        "colab": {
          "autoexec": {
            "startup": false,
            "wait_interval": 0
          }
        }
      },
      "cell_type": "code",
      "source": [
        "import numpy as np\n",
        "\n",
        "class MDP:\n",
        "    pass\n",
        "\n",
        "class SimpleMDP(MDP):\n",
        "\n",
        "    def __init__(self):\n",
        "        self.states = ['s0', 's1']\n",
        "        self.actions = ['a0', 'a1', 'a2']\n",
        "        self.valid_actions = [[0,1],[2]]\n",
        "        # |S| * |A| -> |S|\n",
        "        self.transition = np.array(([\n",
        "            [\n",
        "                [0.5, 0.5],  # a0\n",
        "                [0, 1],  # a1\n",
        "                [0, 0]  # a2\n",
        "            ],  # state 0\n",
        "            [\n",
        "                [0, 0],\n",
        "                [0, 0],\n",
        "                [0, 1]\n",
        "            ]  # state 1\n",
        "        ]))\n",
        "        # |S| * |A| -> R\n",
        "        self.reward = np.array([\n",
        "            [5, 10, 0],\n",
        "            [0, 0, -1]\n",
        "        ])\n",
        "\n",
        "\n",
        "class PolicyLearner:\n",
        "\n",
        "    def __init__(self, mdp, discount=0.95, theta=1e-10):\n",
        "        self.mdp = mdp\n",
        "        self.discount = discount\n",
        "        self.theta = theta\n",
        "        self.nb_states = len(mdp.states)\n",
        "        self.nb_actions = len(mdp.actions)\n",
        "\n",
        "    def PolicyEvaluation(self, partial = False, partial_iteration_limit=100):\n",
        "        mask = [[False, False, True], [True, True, False]]\n",
        "        r_vec = np.sum(np.multiply(np.ma.masked_array(self.policy, mask),\n",
        "                                   np.ma.masked_array(self.mdp.reward, mask)), axis=1).data\n",
        "        # print(r_vec.shape)\n",
        "\n",
        "        p_mat = []\n",
        "        for i in range(self.nb_states):\n",
        "            trans = np.matmul(np.ma.masked_array(self.policy[i], mask[i]),\n",
        "                              np.ma.masked_array(self.mdp.transition[i], np.stack((mask[i], mask[i])).T)).data\n",
        "            p_mat.append(trans)\n",
        "        p_mat = np.array(p_mat)\n",
        "\n",
        "        count = 0\n",
        "        while (True):\n",
        "            count += 1\n",
        "\n",
        "            v = self.value_fun.copy()\n",
        "            self.value_fun = r_vec + self.discount * np.matmul(p_mat, self.value_fun)\n",
        "            delta = np.max(np.abs(v - self.value_fun))\n",
        "            # print(self.value_fun)\n",
        "            if delta < self.theta:\n",
        "                print('Sweep count:',count)\n",
        "                print('value function:', self.value_fun)\n",
        "                break\n",
        "\n",
        "            if partial is True and count >= partial_iteration_limit:\n",
        "                print('Sweep count:', count)\n",
        "                print('value function:', self.value_fun)\n",
        "                break\n",
        "\n",
        "\n",
        "    def PolicyImprovement(self):\n",
        "        stable = True\n",
        "        for i in range(self.nb_states):\n",
        "            # find the argmax action\n",
        "            q = np.full((self.nb_actions), fill_value=-np.inf)\n",
        "            for j in self.mdp.valid_actions[i]:\n",
        "                q[j] = self.mdp.reward[i, j] + self.discount * \\\n",
        "                        np.sum(np.multiply(self.mdp.transition[i, j], self.value_fun))\n",
        "            # print(q)\n",
        "            argmax_q = np.argmax(q)\n",
        "            # print(argmax_q)\n",
        "            prev_action = np.argmax(self.policy[i])\n",
        "            # print(q)\n",
        "            # print('state: {}, prev_q:{}, max_q:{}')\n",
        "            if prev_action != argmax_q:\n",
        "                print('policy update: (state {} -> action {})'.format(i, argmax_q))\n",
        "                stable = False\n",
        "                self.policy[i][prev_action] = 0\n",
        "                self.policy[i][argmax_q] = 1\n",
        "        return stable\n",
        "\n",
        "    def PolicyIteration(self):\n",
        "        # initialization\n",
        "        self.policy = np.zeros((self.nb_states, self.nb_actions))\n",
        "        #     for i in range(self.nb_states):\n",
        "        #       self.policy[i,int(np.random.rand()*3)] = 1\n",
        "        # only legit actions\n",
        "        self.policy[0, int(np.random.rand() * 2)] = 1\n",
        "        self.policy[1, 2] = 1\n",
        "        self.value_fun = np.zeros((self.nb_states,))\n",
        "\n",
        "        print('Initial policy:\\n', self.policy)\n",
        "\n",
        "        while (True):\n",
        "            self.PolicyEvaluation()\n",
        "            if self.PolicyImprovement():\n",
        "                print('Itertion finished')\n",
        "                print('policy:\\n', self.policy)\n",
        "                break\n",
        "\n",
        "    def ValueIteration(self):\n",
        "        # initialization\n",
        "        self.value_fun = np.zeros((self.nb_states,))\n",
        "        count = 0\n",
        "        while(True):\n",
        "            count += 1\n",
        "            v = self.value_fun.copy()\n",
        "            q = np.full((self.nb_states, self.nb_actions), fill_value=-np.inf)\n",
        "            for i in range(self.nb_states):\n",
        "                for j in self.mdp.valid_actions[i]:\n",
        "                    q[i][j] = self.mdp.reward[i, j] + self.discount * \\\n",
        "                           np.sum(np.multiply(self.mdp.transition[i, j], self.value_fun))\n",
        "                self.value_fun[i] = np.max(q[i])\n",
        "\n",
        "            # print(v)\n",
        "            # print(self.value_fun)\n",
        "            delta = np.max(np.abs(v - self.value_fun))\n",
        "\n",
        "            if delta < self.theta:\n",
        "                print('Sweep count:', count)\n",
        "                print('value function:', self.value_fun)\n",
        "                self.q = q\n",
        "                break\n",
        "        tmp = np.argmax(q, axis = 1)\n",
        "        self.policy = np.zeros((self.nb_states, self.nb_actions))\n",
        "        for i in range(self.nb_states):\n",
        "            self.policy[i][tmp[i]] = 1\n",
        "        print('Policy:\\n', self.policy)\n",
        "\n",
        "    def ImprovedPolicyIteration(self, partial_iteration_limit):\n",
        "        self.policy = np.zeros((self.nb_states, self.nb_actions))\n",
        "        self.policy[0, int(np.random.rand() * 2)] = 1\n",
        "        self.policy[1, 2] = 1\n",
        "        self.value_fun = np.zeros((self.nb_states,))\n",
        "        print('Initial policy:\\n', self.policy)\n",
        "        while (True):\n",
        "            self.PolicyEvaluation(partial=True, partial_iteration_limit=partial_iteration_limit)\n",
        "            if self.PolicyImprovement():\n",
        "                print('Itertion finished')\n",
        "                print('policy:\\n', self.policy)\n",
        "                break"
      ],
      "execution_count": 0,
      "outputs": []
    },
    {
      "metadata": {
        "id": "5t0uOPG_hsJz",
        "colab_type": "text"
      },
      "cell_type": "markdown",
      "source": [
        "Test run."
      ]
    },
    {
      "metadata": {
        "id": "prIBCzxUgghW",
        "colab_type": "code",
        "colab": {
          "autoexec": {
            "startup": false,
            "wait_interval": 0
          },
          "output_extras": [
            {
              "item_id": 1
            }
          ],
          "base_uri": "https://localhost:8080/",
          "height": 578
        },
        "outputId": "e111f49a-db45-4ce8-9bdb-cc813e565045",
        "executionInfo": {
          "status": "ok",
          "timestamp": 1517697728327,
          "user_tz": 300,
          "elapsed": 423,
          "user": {
            "displayName": "Zichao Yan",
            "photoUrl": "//lh3.googleusercontent.com/-lUGgNeiX7v8/AAAAAAAAAAI/AAAAAAAAABE/6cWBoWlDDyc/s50-c-k-no/photo.jpg",
            "userId": "105794893504586740188"
          }
        }
      },
      "cell_type": "code",
      "source": [
        "learner = PolicyLearner(SimpleMDP())\n",
        "print('Policy Iteration for exmaple MDP')\n",
        "learner.PolicyIteration()\n",
        "print('\\n')\n",
        "print('Value Iteration for example MDP')\n",
        "learner.ValueIteration()\n",
        "print('\\n')\n",
        "print('Partial Policy Iteration for example MDP')\n",
        "learner.ImprovedPolicyIteration(partial_iteration_limit=50)"
      ],
      "execution_count": 2,
      "outputs": [
        {
          "output_type": "stream",
          "text": [
            "Policy Iteration for exmaple MDP\n",
            "Initial policy:\n",
            " [[1. 0. 0.]\n",
            " [0. 0. 1.]]\n",
            "Sweep count: 450\n",
            "value function: [ -8.57142857 -20.        ]\n",
            "Itertion finished\n",
            "policy:\n",
            " [[1. 0. 0.]\n",
            " [0. 0. 1.]]\n",
            "\n",
            "\n",
            "Value Iteration for example MDP\n",
            "Sweep count: 450\n",
            "value function: [ -8.57142857 -20.        ]\n",
            "Policy:\n",
            " [[1. 0. 0.]\n",
            " [0. 0. 1.]]\n",
            "\n",
            "\n",
            "Partial Policy Iteration for example MDP\n",
            "Initial policy:\n",
            " [[0. 1. 0.]\n",
            " [0. 0. 1.]]\n",
            "Sweep count: 50\n",
            "value function: [ -7.46110049 -18.46110049]\n",
            "policy update: (state 0 -> action 0)\n",
            "Sweep count: 50\n",
            "value function: [ -8.45301799 -19.88158942]\n",
            "Itertion finished\n",
            "policy:\n",
            " [[1. 0. 0.]\n",
            " [0. 0. 1.]]\n"
          ],
          "name": "stdout"
        }
      ]
    },
    {
      "metadata": {
        "id": "_bKGCMX3h7WO",
        "colab_type": "text"
      },
      "cell_type": "markdown",
      "source": [
        "### 3.2 Gridworld MDP\n",
        "A 4 $\\times$ 4 Grid MDP, equivalent to the one on the slide."
      ]
    },
    {
      "metadata": {
        "id": "e-5AqyhehrRp",
        "colab_type": "code",
        "colab": {
          "autoexec": {
            "startup": false,
            "wait_interval": 0
          }
        }
      },
      "cell_type": "code",
      "source": [
        "class GridMDP(MDP):\n",
        "    '''\n",
        "        A 4 by 4 grid.\n",
        "        Equivalent to the Small Gridworld in course slides.\n",
        "        '''\n",
        "    def __init__(self):\n",
        "        # only non terminal states\n",
        "        self.states = np.arange(16)\n",
        "        self.nonterminal_states = np.arange(1,15)\n",
        "        self.actions = ['top', 'right', 'down', 'left']\n",
        "\n",
        "        self.transition = []\n",
        "        self.reward = []\n",
        "        for s in self.states:\n",
        "            mat = np.zeros((len(self.actions), len(self.states)))\n",
        "            if s-4>=0:\n",
        "                mat[0][s - 4] = 1\n",
        "            else:\n",
        "                mat[0][s] = 1\n",
        "            if (s+1)%4!=0:\n",
        "                mat[1][s + 1] = 1\n",
        "            else:\n",
        "                mat[1][s] = 1\n",
        "            if s+4<=15:\n",
        "                mat[2][s + 4] = 1\n",
        "            else:\n",
        "                mat[2][s] = 1\n",
        "            if s%4!=0:\n",
        "                mat[3][s - 1] = 1\n",
        "            else:\n",
        "                mat[3][s] = 1\n",
        "            self.transition.append(mat)\n",
        "            self.reward.append(np.full(len(self.actions), fill_value=-1))\n",
        "        self.transition = np.array(self.transition)\n",
        "        self.reward = np.array(self.reward)\n",
        "        # self.reward[0] = np.zeros(4)\n",
        "        # self.reward[15] = np.zeros(4)\n",
        "\n",
        "\n",
        "class GridPolicyLearner:\n",
        "\n",
        "    def __init__(self, mdp, discount=0.95, theta=1e-10):\n",
        "        self.mdp = mdp\n",
        "        self.discount = discount\n",
        "        self.theta = theta\n",
        "        self.nb_states = len(mdp.states)\n",
        "        self.nb_actions = len(mdp.actions)\n",
        "\n",
        "    def print_value_fun(self):\n",
        "        for i in (0, 4, 8, 12):\n",
        "            print(\"\\t\".join(['{:.2f}'.format(c) for c in self.value_fun[i:i + 4]]))\n",
        "\n",
        "    def print_actions(self):\n",
        "        vis = [['terminal', 0, 0, 0], [0, 0, 0, 0], [0, 0, 0, 0], [0, 0, 0, 'terminal']]\n",
        "        for i in range(4):\n",
        "            for j in range(4):\n",
        "                if (i, j) == (0, 0) or (i, j) == (3, 3):\n",
        "                    continue\n",
        "                vis[i][j] = self.mdp.actions[np.argmax(self.policy[4 * i + j])]\n",
        "        print('policy:')\n",
        "        # print(self.policy)\n",
        "        for row in vis:\n",
        "            print(\"{:<12} {:<12} {:<12} {:<12}\".format(row[0], row[1], row[2], row[3]))\n",
        "\n",
        "    def PolicyEvaluation(self, partial = False, partial_iteration_limit=100):\n",
        "        r_vec = np.sum(np.multiply(self.policy, self.mdp.reward), axis=1)\n",
        "        # print(r_vec.shape)\n",
        "\n",
        "        p_mat = []\n",
        "        for i in range(self.nb_states):\n",
        "            trans = np.matmul(self.policy[i], self.mdp.transition[i])\n",
        "            p_mat.append(trans)\n",
        "        p_mat = np.array(p_mat)\n",
        "\n",
        "        count = 0\n",
        "        while (True):\n",
        "            count += 1\n",
        "\n",
        "            v = self.value_fun.copy()\n",
        "            self.value_fun = r_vec + self.discount * np.matmul(p_mat, self.value_fun)\n",
        "            delta = np.max(np.abs(v - self.value_fun))\n",
        "            # print(self.value_fun)\n",
        "            if delta < self.theta:\n",
        "                print('Sweep count:',count)\n",
        "                print('value function:')\n",
        "                self.print_value_fun()\n",
        "                break\n",
        "\n",
        "            if partial is True and count >= partial_iteration_limit:\n",
        "                print('Sweep count:', count)\n",
        "                print('value function:')\n",
        "                self.print_value_fun()\n",
        "                break\n",
        "        return count\n",
        "\n",
        "\n",
        "    def PolicyImprovement(self):\n",
        "        stable = True\n",
        "        for i in range(self.nb_states):\n",
        "            # don't need to update actions for terminal states — they have no actions.\n",
        "            if i == 0 or i == 15:\n",
        "                continue\n",
        "            # find the argmax action\n",
        "            q = np.full((self.nb_actions), fill_value=-np.inf)\n",
        "            for j in range(self.nb_actions):\n",
        "                q[j] = self.mdp.reward[i, j] + self.discount * \\\n",
        "                        np.sum(np.multiply(self.mdp.transition[i, j], self.value_fun))\n",
        "\n",
        "            argmax_q = np.argmax(q)\n",
        "            prev_action = np.argmax(self.policy[i])\n",
        "\n",
        "            if prev_action != argmax_q:\n",
        "                print('policy update: (state {} -> action {})'.format(i, argmax_q))\n",
        "                stable = False\n",
        "                self.policy[i] = np.zeros(self.nb_actions)\n",
        "                self.policy[i][argmax_q] = 1\n",
        "            else:\n",
        "                self.policy[i] = np.zeros(self.nb_actions)\n",
        "                self.policy[i][prev_action] = 1\n",
        "        return stable\n",
        "\n",
        "    def PolicyIteration(self):\n",
        "        # initialization\n",
        "        total = 0\n",
        "        self.policy = np.full((self.nb_states, self.nb_actions), fill_value=0.25)\n",
        "        # mask out actions for state 0 and state 1\n",
        "        self.policy[0,:] = np.zeros(self.nb_actions)\n",
        "        self.policy[15, :] = np.zeros(self.nb_actions)\n",
        "        self.value_fun = np.zeros((self.nb_states,))\n",
        "\n",
        "#        print('Initial policy:\\n', self.policy)\n",
        "\n",
        "        while (True):\n",
        "            total += self.PolicyEvaluation()\n",
        "            if self.PolicyImprovement():\n",
        "                print('Itertion finished')\n",
        "                self.print_actions()\n",
        "                break\n",
        "        return total\n",
        "\n",
        "    def ValueIteration(self):\n",
        "        # initialization\n",
        "        self.value_fun = np.zeros((self.nb_states,))\n",
        "        count = 0\n",
        "        while(True):\n",
        "            count += 1\n",
        "            v = self.value_fun.copy()\n",
        "            q = np.full((self.nb_states, self.nb_actions), fill_value=-np.inf)\n",
        "            for i in range(self.nb_states):\n",
        "                if i==0 or i==15:\n",
        "                    continue\n",
        "                for j in range(self.nb_actions):\n",
        "                    q[i][j] = self.mdp.reward[i, j] + self.discount * \\\n",
        "                           np.sum(np.multiply(self.mdp.transition[i, j], self.value_fun))\n",
        "                self.value_fun[i] = np.max(q[i])\n",
        "\n",
        "            delta = np.max(np.abs(v - self.value_fun))\n",
        "\n",
        "            if delta < self.theta:\n",
        "                print('Sweep count:', count)\n",
        "                print('value function:')\n",
        "                self.print_value_fun()\n",
        "                self.q = q\n",
        "                break\n",
        "        tmp = np.argmax(q, axis = 1)\n",
        "        self.policy = np.zeros((self.nb_states, self.nb_actions))\n",
        "        for i in range(self.nb_states):\n",
        "            self.policy[i][tmp[i]] = 1\n",
        "        self.print_actions()\n",
        "        return count\n",
        "\n",
        "    def ImprovedPolicyIteration(self, partial_iteration_limit):\n",
        "        # initialization\n",
        "        total = 0\n",
        "        self.policy = np.full((self.nb_states, self.nb_actions), fill_value=0.25)\n",
        "        # mask out actions for state 0 and state 1\n",
        "        self.policy[0, :] = np.zeros(self.nb_actions)\n",
        "        self.policy[15, :] = np.zeros(self.nb_actions)\n",
        "        self.value_fun = np.zeros((self.nb_states,))\n",
        "\n",
        "        while (True):\n",
        "            total += self.PolicyEvaluation(partial=True, partial_iteration_limit=partial_iteration_limit)\n",
        "            if self.PolicyImprovement():\n",
        "                print('Itertion finished')\n",
        "                self.print_actions()\n",
        "                break\n",
        "        return total"
      ],
      "execution_count": 0,
      "outputs": []
    },
    {
      "metadata": {
        "id": "u5mLPquJ7i_m",
        "colab_type": "code",
        "colab": {
          "autoexec": {
            "startup": false,
            "wait_interval": 0
          },
          "output_extras": [
            {
              "item_id": 1
            }
          ],
          "base_uri": "https://localhost:8080/",
          "height": 1547
        },
        "outputId": "7d05e566-c44b-485f-c164-43c7acc2ef2e",
        "executionInfo": {
          "status": "ok",
          "timestamp": 1517697730482,
          "user_tz": 300,
          "elapsed": 241,
          "user": {
            "displayName": "Zichao Yan",
            "photoUrl": "//lh3.googleusercontent.com/-lUGgNeiX7v8/AAAAAAAAAAI/AAAAAAAAABE/6cWBoWlDDyc/s50-c-k-no/photo.jpg",
            "userId": "105794893504586740188"
          }
        }
      },
      "cell_type": "code",
      "source": [
        "learner = GridPolicyLearner(GridMDP())\n",
        "print('Policy Iteration for Gridworld')\n",
        "learner.PolicyIteration()\n",
        "print('\\n')\n",
        "print('Value Iteration for Gridworld')\n",
        "learner.ValueIteration()\n",
        "print('\\n')\n",
        "print('Modified Value Iteration for Gridworld')\n",
        "learner.ImprovedPolicyIteration(partial_iteration_limit=50)\n",
        "print('\\n')"
      ],
      "execution_count": 4,
      "outputs": [
        {
          "output_type": "stream",
          "text": [
            "Policy Iteration for Gridworld\n",
            "Sweep count: 221\n",
            "value function:\n",
            "0.00\t-7.59\t-10.53\t-11.43\n",
            "-7.59\t-9.63\t-10.58\t-10.53\n",
            "-10.53\t-10.58\t-9.63\t-7.59\n",
            "-11.43\t-10.53\t-7.59\t0.00\n",
            "policy update: (state 1 -> action 3)\n",
            "policy update: (state 2 -> action 3)\n",
            "policy update: (state 3 -> action 2)\n",
            "policy update: (state 6 -> action 2)\n",
            "policy update: (state 7 -> action 2)\n",
            "policy update: (state 10 -> action 1)\n",
            "policy update: (state 11 -> action 2)\n",
            "policy update: (state 13 -> action 1)\n",
            "policy update: (state 14 -> action 1)\n",
            "Sweep count: 4\n",
            "value function:\n",
            "0.00\t-1.00\t-1.95\t-2.85\n",
            "-1.00\t-1.95\t-2.85\t-1.95\n",
            "-1.95\t-2.85\t-1.95\t-1.00\n",
            "-2.85\t-1.95\t-1.00\t0.00\n",
            "policy update: (state 6 -> action 0)\n",
            "Sweep count: 1\n",
            "value function:\n",
            "0.00\t-1.00\t-1.95\t-2.85\n",
            "-1.00\t-1.95\t-2.85\t-1.95\n",
            "-1.95\t-2.85\t-1.95\t-1.00\n",
            "-2.85\t-1.95\t-1.00\t0.00\n",
            "Itertion finished\n",
            "policy:\n",
            "terminal     left         left         down        \n",
            "top          top          top          down        \n",
            "top          top          right        down        \n",
            "top          right        right        terminal    \n",
            "\n",
            "\n",
            "Value Iteration for Gridworld\n",
            "Sweep count: 4\n",
            "value function:\n",
            "0.00\t-1.00\t-1.95\t-2.85\n",
            "-1.00\t-1.95\t-2.85\t-1.95\n",
            "-1.95\t-2.85\t-1.95\t-1.00\n",
            "-2.85\t-1.95\t-1.00\t0.00\n",
            "policy:\n",
            "terminal     left         left         down        \n",
            "top          top          top          down        \n",
            "top          top          right        down        \n",
            "top          right        right        terminal    \n",
            "\n",
            "\n",
            "Modified Value Iteration for Gridworld\n",
            "Sweep count: 50\n",
            "value function:\n",
            "0.00\t-7.56\t-10.48\t-11.37\n",
            "-7.56\t-9.58\t-10.52\t-10.48\n",
            "-10.48\t-10.52\t-9.58\t-7.56\n",
            "-11.37\t-10.48\t-7.56\t0.00\n",
            "policy update: (state 1 -> action 3)\n",
            "policy update: (state 2 -> action 3)\n",
            "policy update: (state 3 -> action 2)\n",
            "policy update: (state 6 -> action 2)\n",
            "policy update: (state 7 -> action 2)\n",
            "policy update: (state 10 -> action 1)\n",
            "policy update: (state 11 -> action 2)\n",
            "policy update: (state 12 -> action 1)\n",
            "policy update: (state 13 -> action 1)\n",
            "policy update: (state 14 -> action 1)\n",
            "Sweep count: 4\n",
            "value function:\n",
            "0.00\t-1.00\t-1.95\t-2.85\n",
            "-1.00\t-1.95\t-2.85\t-1.95\n",
            "-1.95\t-2.85\t-1.95\t-1.00\n",
            "-2.85\t-1.95\t-1.00\t0.00\n",
            "policy update: (state 6 -> action 0)\n",
            "policy update: (state 12 -> action 0)\n",
            "Sweep count: 1\n",
            "value function:\n",
            "0.00\t-1.00\t-1.95\t-2.85\n",
            "-1.00\t-1.95\t-2.85\t-1.95\n",
            "-1.95\t-2.85\t-1.95\t-1.00\n",
            "-2.85\t-1.95\t-1.00\t0.00\n",
            "Itertion finished\n",
            "policy:\n",
            "terminal     left         left         down        \n",
            "top          top          top          down        \n",
            "top          top          right        down        \n",
            "top          right        right        terminal    \n",
            "\n",
            "\n"
          ],
          "name": "stdout"
        }
      ]
    },
    {
      "metadata": {
        "id": "IZhe-c2vkDH9",
        "colab_type": "code",
        "colab": {
          "autoexec": {
            "startup": false,
            "wait_interval": 0
          }
        }
      },
      "cell_type": "code",
      "source": [
        "import sys, os\n",
        "\n",
        "# Disable\n",
        "def blockPrint():\n",
        "    sys.stdout = open(os.devnull, 'w')\n",
        "\n",
        "# Restore\n",
        "def enablePrint():\n",
        "    sys.stdout = sys.__stdout__\n",
        "    \n",
        "    \n",
        "def _test_gridworld(discount, suppress_print=False):\n",
        "    '''\n",
        "\n",
        "    :param discount:\n",
        "    :return: convergence sweep counts for each of the 3 algorithms\n",
        "    '''\n",
        "    if suppress_print:\n",
        "        blockPrint()\n",
        "    else:\n",
        "        enablePrint()\n",
        "    print(discount)\n",
        "    conv_count = []\n",
        "    learner = GridPolicyLearner(GridMDP(),discount=discount)\n",
        "    print('Policy Iteration for Gridworld')\n",
        "    conv_count.append(learner.PolicyIteration())\n",
        "    print('\\n')\n",
        "    print('Value Iteration for Gridworld')\n",
        "    conv_count.append(learner.ValueIteration())\n",
        "    print('\\n')\n",
        "    print('Modified Value Iteration for Gridworld')\n",
        "    conv_count.append(learner.ImprovedPolicyIteration(partial_iteration_limit=50))\n",
        "    print('\\n')\n",
        "    return np.array(conv_count)"
      ],
      "execution_count": 0,
      "outputs": []
    },
    {
      "metadata": {
        "id": "mfTjNqmpoIk7",
        "colab_type": "text"
      },
      "cell_type": "markdown",
      "source": [
        "Demonstrating empirical results for convergence with different discount factor."
      ]
    },
    {
      "metadata": {
        "id": "i4VqbWOb7jcZ",
        "colab_type": "code",
        "colab": {
          "autoexec": {
            "startup": false,
            "wait_interval": 0
          },
          "output_extras": [
            {
              "item_id": 1
            },
            {
              "item_id": 2
            }
          ],
          "base_uri": "https://localhost:8080/",
          "height": 378
        },
        "outputId": "ab8d028c-debb-4488-b8b1-33a79a715fcd",
        "executionInfo": {
          "status": "ok",
          "timestamp": 1517697733353,
          "user_tz": 300,
          "elapsed": 620,
          "user": {
            "displayName": "Zichao Yan",
            "photoUrl": "//lh3.googleusercontent.com/-lUGgNeiX7v8/AAAAAAAAAAI/AAAAAAAAABE/6cWBoWlDDyc/s50-c-k-no/photo.jpg",
            "userId": "105794893504586740188"
          }
        }
      },
      "cell_type": "code",
      "source": [
        "import matplotlib.pyplot as plt\n",
        "legend = ['Policy Iteration', 'Value Iteration', 'Improved Policy Iteration']\n",
        "print(legend)\n",
        "count = []\n",
        "for discount_factor in np.arange(0,1.05,0.05):\n",
        "    count.append(_test_gridworld(discount_factor, suppress_print=True))\n",
        "count = np.array(count)\n",
        "# print(count)\n",
        "plt.figure()\n",
        "plt.ylabel('sweep counts')\n",
        "plt.xlabel('discount factor')\n",
        "for i in range(3):\n",
        "    plt.plot(np.arange(0,1.05,0.05),count[:,i], label=legend[i])\n",
        "plt.legend()\n",
        "plt.show()"
      ],
      "execution_count": 6,
      "outputs": [
        {
          "output_type": "stream",
          "text": [
            "['Policy Iteration', 'Value Iteration', 'Improved Policy Iteration']\n"
          ],
          "name": "stdout"
        },
        {
          "output_type": "display_data",
          "data": {
            "image/png": "[encoded data removed]",
            "text/plain": [
              "<matplotlib.figure.Figure at 0x7f4216a75588>"
            ]
          },
          "metadata": {
            "tags": []
          }
        }
      ]
    },
    {
      "metadata": {
        "id": "bOt40LRqreQ5",
        "colab_type": "text"
      },
      "cell_type": "markdown",
      "source": [
        "From the graph we can see that the convergence rate of value iteration is constant (4 sweeps) notwithstanding the discount factor; in comparison, policy iteration algorithm is exponentially proportional to the discount factor. Improved value iteration is moderate with respect to discount factor, whose maximum iteration per round is set to 50. The sweep counts of this algorithm remains constant after the discount factor go over a certain threshold."
      ]
    }
  ]
}