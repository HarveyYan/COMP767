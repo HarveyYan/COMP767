{
  "nbformat": 4,
  "nbformat_minor": 0,
  "metadata": {
    "colab": {
      "name": "COMP767 Assignment 1 - Thompson Sampling",
      "version": "0.3.2",
      "views": {},
      "default_view": {},
      "provenance": [],
      "collapsed_sections": []
    },
    "kernelspec": {
      "name": "python3",
      "display_name": "Python 3"
    }
  },
  "cells": [
    {
      "metadata": {
        "id": "WxlFOJZnZYUF",
        "colab_type": "text"
      },
      "source": [
        "#A summary on Thompson Sampling\n",
        "\n",
        "With multiple reference from \"A Tutorial on Thompson Sampling\". Experiments will follow this summary.\n",
        "\n",
        "##Advantages of Thompson Sampling\n",
        "\n",
        "Thompson sampling is a statistical approach which leverages Bayesian Inference technique to the trade-off between exploration and exploitation in the context of reinforcement learning, as opposed to the entirely greedy algorithm and ineffective $\\epsilon$-greedy algorithm.\n",
        "\n",
        "Greedy algorithm makes decisions solely for the purpose of maximizing immediate rewards at each time step, and usually makes maximum likelihood estimations on the reward, e.g. mean reward, to each action. An apparent disadvantage is that greedy algorithm doesn't actively explore the whole set of actions, therefore it can end up making sub-optimal decisions all the time; another pitfall is that in a finite number of trials the MLE of the reward can easily lead to overfitting.\n",
        "\n",
        "$\\epsilon$-greedy algorithm alleviates this defect only to the extent that it is forced to explore all the action, albeit undiscriminately. Therefore this inefficiency can be reflected in that many decisions are wasted on sub-optimal actions. In a word, this algorithm overlooks the uncertainty (a.k.a. variance in terms of a gaussian distribution) of our expection of the reward when exploring.\n",
        "\n",
        "Thompson sampling, on the other hand, models a distribution on rewards explicitly, where after any finite number of trials we can estimate the expection of reward and uncertainty of that estimation.\n",
        "\n",
        "##Thompson Sampling in Bernoulli Bandit problem\n",
        "\n",
        "For a set of $K$ actions, each one yields a reward of $1$ with probability $\\theta_{k}$ and a reward of $0$ with probability $1-\\theta_{k}$, for $k=1...K$. $\\theta = (\\theta_{1}...\\theta_{K})$ is fixed. At time step $t$, we have $P(r_t=1|x_t,\\theta)=\\theta_{x_t}$.\n",
        "\n",
        "Bayesian inference updates its estimates of $\\theta$ over time using the Bayes Rule, that is the posterior of $\\theta$ given historical data, is proportional to the multiplication of prior of $\\theta$, and the likelihood of historical data given $\\theta$.\n",
        "\n",
        "Recall that the conjugate prior of a Bernoulli distribution or a Binomial distribution is a Beta distribution parameterized by $\\alpha=(\\alpha_{1}...\\alpha_{K})$ and $\\beta=(\\beta_{1}...\\beta_{K})$ which are the pseudo-counts of success and failures of Bernoulli trials before actual experiment begins.\n",
        "\n",
        "The posterior distribution is also a beta distribution, as guaranteed by the conjugacy property. At each time step $t$, update only happens to action $x_t$  by $(\\alpha_{x_t}, \\beta_{x_t}) = (\\alpha_{x_t}, \\beta_{x_t}) + (r_t, 1-r_t)$.\n",
        "\n",
        "And instead of using expectation as estimates for $\\theta$, Thomspon Sampling samples estimates from the posterior distribution, to account for the uncertainty (a.k.a. variance). With uncertainty embedded in the samples, Thompson Sampling thus can actively explore the whole space of actions guided by uncertainties.\n",
        "\n",
        "##General Thompson Sampling\n",
        "\n",
        "In a more general setting, we need a more catered distribution for action-outcome relatonship parameterized by $\\theta$, as denoted by $q_\\theta(y_t|x_t)$; and a function that maps an outcome to a reward, which is $r_t=r(y_t)$. A sophisticated prior distribution $p$ is also needed.\n",
        "\n",
        "The reward of an action $x$, hence is $E_{y}[r(q_{\\theta}(y|x))]$.\n",
        "\n",
        "The update of posterior uses the same old Bayes Rule, which is an ease if we always choose a corresponding conjugate prior.\n",
        "\n",
        "##Why Thompson Sampling works and its limitation\n",
        "\n",
        "The major difference that makes Thompson Sampling superior than greedy algorithms is that it samples actions from a posterior distribution instead of simply choosing the one with the largest expectation of reward. By sampling it is allowed to evaluate all actions that are possibily optimal, while discarding the choices which are clearly sub-optimal.\n",
        "\n",
        "There are limitations as well to this technique, which are:\n",
        "\n",
        "* In a setting where there is a limit on the number of trials, a.k.a. time-sensitive learning scenarios, the learner can get a relatively higher culminative reward by solely exploiting.\n",
        "\n",
        "* In nonstationary learning problems, our assumption on the priors is henceforth useless, and Bayesian Inference cannot guarantee to converge to optimal parameters in any finite number of trials.\n",
        "\n",
        "##Experiments\n",
        "\n",
        "We will illustrate the effectiveness of Thompson sampling in a Bernoulli multi-arms bandit problem, by comparing its per-step regret with the $\\epsilon$-greedy algorithm and the UCB algorithm.\n",
        "\n",
        "The comparison will be averaged over 10,000 simulations in 1000 time steps for each algorithm, over varied $\\theta$ values, $\\epsilon$ values and number of arms.\n"
      ],
      "cell_type": "markdown"
    },
    {
      "metadata": {
        "id": "VrgWRO5C2SVk",
        "colab_type": "code",
        "colab": {
          "autoexec": {
            "startup": false,
            "wait_interval": 0
          },
          "output_extras": [
            {
              "item_id": 1
            }
          ],
          "base_uri": "https://localhost:8080/",
          "height": 34
        },
        "outputId": "edb49b6c-b8d8-4ae6-a280-f2fc7b5d1c00",
        "executionInfo": {
          "status": "ok",
          "timestamp": 1516573919341,
          "user_tz": 300,
          "elapsed": 1104,
          "user": {
            "displayName": "Zichao Yan",
            "photoUrl": "//lh3.googleusercontent.com/-lUGgNeiX7v8/AAAAAAAAAAI/AAAAAAAAABE/6cWBoWlDDyc/s50-c-k-no/photo.jpg",
            "userId": "105794893504586740188"
          }
        }
      },
      "source": [
        "print('hello world')"
      ],
      "cell_type": "code",
      "execution_count": 12,
      "outputs": [
        {
          "output_type": "stream",
          "text": [
            "hello world\n"
          ],
          "name": "stdout"
        }
      ]
    },
    {
      "metadata": {
        "id": "xdpclcPm2gIf",
        "colab_type": "code",
        "colab": {
          "autoexec": {
            "startup": false,
            "wait_interval": 0
          }
        }
      },
      "source": [
        "# some structure and logics are referenced from 'iosband/ts_tutorial'\n",
        "\n",
        "# starts with definig the agents: greedy agent and TS agent\n",
        "import numpy as np\n",
        "\n",
        "class EpsilonGreedyAgent:\n",
        "  # number of arms, prior beta distribution a0, prior beta distribution b0, and epsilon(greedy)\n",
        "  def __init__(self, n_arm, a0=1, b0=1, epsilon=0.1):\n",
        "    self.n_arm = n_arm\n",
        "    self.prior_alpha = np.array([a0 for arm in range(n_arm)])\n",
        "    self.prior_beta = np.array([b0 for arm in range(n_arm)])\n",
        "    self.epsilon = epsilon\n",
        "  \n",
        "  # expectation of posterior distribution\n",
        "  def get_posterior_mean(self):\n",
        "    return self.prior_alpha/(self.prior_alpha + self.prior_beta)\n",
        "  \n",
        "  # draw samples from a beta distribution\n",
        "  def get_posterior_sample(self):\n",
        "    return np.random.beta(self.prior_alpha, self.prior_beta)\n",
        "  \n",
        "  def update(self, action, reward):\n",
        "    reward = int(reward)\n",
        "    assert action in range(self.n_arm)\n",
        "    assert reward == 0 or reward == 1\n",
        "    if reward == 1:\n",
        "      self.prior_alpha[action] += 1\n",
        "    else:\n",
        "      self.prior_beta[action] += 1\n",
        "      \n",
        "  def pick_action(self):\n",
        "    if np.random.rand() < self.epsilon:\n",
        "      action = np.random.randint(self.n_arm)\n",
        "    else:\n",
        "      posterior_means = self.get_posterior_mean()\n",
        "      action = self.__random_argmax(posterior_means)\n",
        "    return action\n",
        "  \n",
        "  # randomly selects an argmax, when more than 1 instance of max exist\n",
        "  def __random_argmax(self, vector):\n",
        "    return np.random.choice(np.where(vector==vector.max())[0])"
      ],
      "cell_type": "code",
      "execution_count": 0,
      "outputs": []
    },
    {
      "metadata": {
        "id": "h8q4WlkBA4qB",
        "colab_type": "code",
        "colab": {
          "autoexec": {
            "startup": false,
            "wait_interval": 0
          }
        }
      },
      "source": [
        "# TS agent, samples from a posterior rather than directly using expectation\n",
        "class TSAgent(EpsilonGreedyAgent):\n",
        "  \n",
        "  # randomly selects an argmax, when more than 1 instance of max exist\n",
        "  def __random_argmax(self, vector):\n",
        "    return np.random.choice(np.where(vector==vector.max())[0])\n",
        "  \n",
        "  def pick_action(self):\n",
        "    posterior_samples = self.get_posterior_sample()\n",
        "    return self.__random_argmax(posterior_samples)"
      ],
      "cell_type": "code",
      "execution_count": 0,
      "outputs": []
    },
    {
      "metadata": {
        "id": "Zq55HJiKW_Gy",
        "colab_type": "code",
        "colab": {
          "autoexec": {
            "startup": false,
            "wait_interval": 0
          }
        }
      },
      "source": [
        "# UCB agent\n",
        "class UCBAgent(EpsilonGreedyAgent):\n",
        "  \n",
        "  def __init__(self, c, n_arm):\n",
        "    super(UCBAgent, self).__init__(n_arm)\n",
        "    self.c = c\n",
        "    self.t = self.n_arm\n",
        "    self.action_counts = np.ones(self.n_arm, dtype=int)\n",
        "    \n",
        "  # randomly selects an argmax, when more than 1 instance of max exist\n",
        "  def __random_argmax(self, vector):\n",
        "    return np.random.choice(np.where(vector==vector.max())[0])\n",
        "  \n",
        "  def pick_action(self):\n",
        "    posterior_means = self.get_posterior_mean()\n",
        "    # calculate upper bounds\n",
        "    upper_bounds = posterior_means + self.c*np.sqrt(np.log(self.t)/self.action_counts)\n",
        "    action = self.__random_argmax(upper_bounds)\n",
        "    self.t += 1\n",
        "    self.action_counts[action] += 1\n",
        "    return action"
      ],
      "cell_type": "code",
      "execution_count": 0,
      "outputs": []
    },
    {
      "metadata": {
        "id": "NeKwqdPJBbLB",
        "colab_type": "code",
        "colab": {
          "autoexec": {
            "startup": false,
            "wait_interval": 0
          }
        }
      },
      "source": [
        "# A stationary Bernoulli multi-arms bandit environment\n",
        "# without drift, as in your word\n",
        "\n",
        "class SimpleBandit:\n",
        "  \n",
        "  def __init__(self, truth):\n",
        "    self.truth = np.array(truth)\n",
        "    assert(np.all(self.truth >= 0))\n",
        "    assert(np.all(self.truth <= 1))\n",
        "    \n",
        "    self.optimal_reward = np.max(self.truth)\n",
        "    self.n_arm = len(self.truth)\n",
        "    \n",
        "  def get_optimal_reward(self):\n",
        "    return self.optimal_reward\n",
        "  \n",
        "  def get_actual_reward(self, action):\n",
        "    assert action in range(n_arm)\n",
        "    return self.truth[action]\n",
        "  \n",
        "  def get_observation(self, action):\n",
        "    return np.random.binomial(1, self.truth[action])"
      ],
      "cell_type": "code",
      "execution_count": 0,
      "outputs": []
    },
    {
      "metadata": {
        "id": "wnNQXW2nF96c",
        "colab_type": "code",
        "colab": {
          "autoexec": {
            "startup": false,
            "wait_interval": 0
          }
        }
      },
      "source": [
        "# define Experiment object\n",
        "class Experiment:\n",
        "  \n",
        "  def __init__(self, agent, env, n_steps):\n",
        "    \n",
        "    self.agent = agent\n",
        "    self.env = env\n",
        "    self.n_steps = n_steps\n",
        "    \n",
        "    self.regrets = []\n",
        "   \n",
        "  def run_by_step(self):\n",
        "    action = self.agent.pick_action()\n",
        "    \n",
        "    # get environment response\n",
        "    optimal_reward = self.env.get_optimal_reward()\n",
        "    actual_reward = self.env.get_actual_reward(action)\n",
        "    observation = self.env.get_observation(action)\n",
        "    \n",
        "    self.agent.update(action, observation)\n",
        "    \n",
        "    regret = optimal_reward - actual_reward\n",
        "    self.regrets.append(regret)\n",
        "    \n",
        "  def run(self):\n",
        "    for t in range(self.n_steps):\n",
        "      self.run_by_step()\n",
        "    return self.regrets\n",
        "    \n",
        "    "
      ],
      "cell_type": "code",
      "execution_count": 0,
      "outputs": []
    },
    {
      "metadata": {
        "id": "ra9OANfSM58H",
        "colab_type": "code",
        "colab": {
          "autoexec": {
            "startup": false,
            "wait_interval": 0
          }
        }
      },
      "source": [
        "# test a simple experiment\n",
        "n_arm = 3\n",
        "probs = [0.7, 0.8, 0.9]\n",
        "n_steps = 1000\n",
        "agent = TSAgent(n_arm)\n",
        "env = SimpleBandit(probs)\n",
        "expr = Experiment(agent, env, n_steps=n_steps)\n",
        "regrets = expr.run()"
      ],
      "cell_type": "code",
      "execution_count": 0,
      "outputs": []
    },
    {
      "metadata": {
        "id": "HZwRaU8fNiSR",
        "colab_type": "code",
        "colab": {
          "autoexec": {
            "startup": false,
            "wait_interval": 0
          },
          "output_extras": [
            {
              "item_id": 1
            }
          ],
          "base_uri": "https://localhost:8080/",
          "height": 51
        },
        "outputId": "9bafcdfe-3ff0-4e83-d1a5-1f19c40c9132",
        "executionInfo": {
          "status": "ok",
          "timestamp": 1516500209641,
          "user_tz": 300,
          "elapsed": 253,
          "user": {
            "displayName": "Zichao Yan",
            "photoUrl": "//lh3.googleusercontent.com/-lUGgNeiX7v8/AAAAAAAAAAI/AAAAAAAAABE/6cWBoWlDDyc/s50-c-k-no/photo.jpg",
            "userId": "105794893504586740188"
          }
        }
      },
      "source": [
        "print('culminative regret', np.sum(regrets))\n",
        "print('average regret', np.sum(regrets)/1000)"
      ],
      "cell_type": "code",
      "execution_count": 93,
      "outputs": [
        {
          "output_type": "stream",
          "text": [
            "culminative regret 7.199999999999999\n",
            "average regret 0.007199999999999999\n"
          ],
          "name": "stdout"
        }
      ]
    },
    {
      "metadata": {
        "id": "TsmYaX0HRZ_n",
        "colab_type": "code",
        "colab": {
          "autoexec": {
            "startup": false,
            "wait_interval": 0
          },
          "output_extras": [
            {
              "item_id": 1
            },
            {
              "item_id": 2
            }
          ],
          "base_uri": "https://localhost:8080/",
          "height": 378
        },
        "outputId": "efc3e496-7996-48ff-897f-3ccc24ca1380",
        "executionInfo": {
          "status": "ok",
          "timestamp": 1516500210935,
          "user_tz": 300,
          "elapsed": 557,
          "user": {
            "displayName": "Zichao Yan",
            "photoUrl": "//lh3.googleusercontent.com/-lUGgNeiX7v8/AAAAAAAAAAI/AAAAAAAAABE/6cWBoWlDDyc/s50-c-k-no/photo.jpg",
            "userId": "105794893504586740188"
          }
        }
      },
      "source": [
        "# plot a graph on each time step's regret\n",
        "import matplotlib.pyplot as plt\n",
        "plt.figure()\n",
        "plt.xlabel('time step')\n",
        "plt.ylabel('regret')\n",
        "plt.plot(np.arange(1000), regrets)\n",
        "\n",
        "# due to the fact that we only have done 1 simulation, this graph is only for debugging purpose"
      ],
      "cell_type": "code",
      "execution_count": 94,
      "outputs": [
        {
          "output_type": "execute_result",
          "data": {
            "text/plain": [
              "[<matplotlib.lines.Line2D at 0x7f7f2f7d8a20>]"
            ]
          },
          "metadata": {
            "tags": []
          },
          "execution_count": 94
        },
        {
          "output_type": "display_data",
          "data": {
            "image/png": "[encoded data removed]",
            "text/plain": [
              "<matplotlib.figure.Figure at 0x7f7f2f823cc0>"
            ]
          },
          "metadata": {
            "tags": []
          }
        }
      ]
    },
    {
      "metadata": {
        "id": "wlkILIlunO06",
        "colab_type": "text"
      },
      "source": [
        "Note that the figure above is only for debugging purposes. As the agent is only tested in one iteration, the figure can't explain anything.\n",
        "\n",
        "Actual experiment is to follow."
      ],
      "cell_type": "markdown"
    },
    {
      "metadata": {
        "id": "r9y3WbL2UDlz",
        "colab_type": "code",
        "colab": {
          "autoexec": {
            "startup": false,
            "wait_interval": 0
          },
          "output_extras": [
            {
              "item_id": 10
            }
          ],
          "base_uri": "https://localhost:8080/",
          "height": 187
        },
        "outputId": "9e0aa3b4-48ef-411f-9d85-35ea63914923",
        "executionInfo": {
          "status": "ok",
          "timestamp": 1516502262979,
          "user_tz": 300,
          "elapsed": 134630,
          "user": {
            "displayName": "Zichao Yan",
            "photoUrl": "//lh3.googleusercontent.com/-lUGgNeiX7v8/AAAAAAAAAAI/AAAAAAAAABE/6cWBoWlDDyc/s50-c-k-no/photo.jpg",
            "userId": "105794893504586740188"
          }
        }
      },
      "source": [
        "n_steps = 1000\n",
        "# number of arms from 3 to 10\n",
        "arms = np.arange(3,13)\n",
        "# number of iterations in a specific number of arms\n",
        "env_iter = 10\n",
        "eps_agent_iter = 10\n",
        "ts_agent_iter = 10\n",
        "ucb_agent_iter = 10\n",
        "regrets_eps = []\n",
        "regrets_ts = []\n",
        "regrets_ucb = []\n",
        "\n",
        "for n_arm in arms:\n",
        "  print('number of arms', n_arm)\n",
        "  for i in range(env_iter):\n",
        "    probs = np.random.rand(n_arm)\n",
        "    env = SimpleBandit(probs)\n",
        "    \n",
        "    # expriments for epsilon greedy algorithms\n",
        "    for eps in range(eps_agent_iter):\n",
        "      agent = EpsilonGreedyAgent(n_arm, epsilon = 0.05 + (np.random.rand()-0.5)*0.1)\n",
        "      expr = Experiment(agent, env, n_steps)\n",
        "      regrets_eps.append(np.array(expr.run()))\n",
        "                         \n",
        "    # expriments for Thompson sampling algorithms\n",
        "    for ts in range(ts_agent_iter):\n",
        "      agent = TSAgent(n_arm)\n",
        "      expr = Experiment(agent, env, n_steps)\n",
        "      regrets_ts.append(np.array(expr.run()))\n",
        "                         \n",
        "    # experiments for UCB sampling algorithms\n",
        "    for ucb in range(ucb_agent_iter):\n",
        "      agent = UCBAgent(np.random.rand()+1, n_arm)\n",
        "      expr = Experiment(agent, env, n_steps)\n",
        "      regrets_ucb.append(np.array(expr.run()))  "
      ],
      "cell_type": "code",
      "execution_count": 99,
      "outputs": [
        {
          "output_type": "stream",
          "text": [
            "number of arms 3\n",
            "number of arms 4\n",
            "number of arms 5\n",
            "number of arms 6\n",
            "number of arms 7\n",
            "number of arms 8\n",
            "number of arms 9\n",
            "number of arms 10\n",
            "number of arms 11\n",
            "number of arms 12\n"
          ],
          "name": "stdout"
        }
      ]
    },
    {
      "metadata": {
        "id": "PRrPCGyBj9bu",
        "colab_type": "code",
        "colab": {
          "autoexec": {
            "startup": false,
            "wait_interval": 0
          },
          "output_extras": [
            {
              "item_id": 1
            },
            {
              "item_id": 2
            }
          ],
          "base_uri": "https://localhost:8080/",
          "height": 378
        },
        "outputId": "ebe59687-860a-458f-a37a-e079fc2ac236",
        "executionInfo": {
          "status": "ok",
          "timestamp": 1516502540811,
          "user_tz": 300,
          "elapsed": 636,
          "user": {
            "displayName": "Zichao Yan",
            "photoUrl": "//lh3.googleusercontent.com/-lUGgNeiX7v8/AAAAAAAAAAI/AAAAAAAAABE/6cWBoWlDDyc/s50-c-k-no/photo.jpg",
            "userId": "105794893504586740188"
          }
        }
      },
      "source": [
        "avg_eps = np.array(regrets_eps).sum(axis=0)/len(regrets_eps)\n",
        "avg_ts = np.array(regrets_ts).sum(axis=0)/len(regrets_ts)\n",
        "avg_ucb = np.array(regrets_ucb).sum(axis=0)/len(regrets_ucb)\n",
        "\n",
        "plt.figure()\n",
        "plt.xlabel('time step')\n",
        "plt.ylabel('regret')\n",
        "plt.plot(avg_eps, label='Epsilon Greedy')\n",
        "plt.plot(avg_ts, label = 'Thompson Sampling')\n",
        "plt.plot(avg_ucb, label = 'UCB')\n",
        "plt.legend()\n",
        "  "
      ],
      "cell_type": "code",
      "execution_count": 101,
      "outputs": [
        {
          "output_type": "execute_result",
          "data": {
            "text/plain": [
              "<matplotlib.legend.Legend at 0x7f7f2f69bd68>"
            ]
          },
          "metadata": {
            "tags": []
          },
          "execution_count": 101
        },
        {
          "output_type": "display_data",
          "data": {
            "image/png": "[encoded data removed]",
            "text/plain": [
              "<matplotlib.figure.Figure at 0x7f7f2f7c20b8>"
            ]
          },
          "metadata": {
            "tags": []
          }
        }
      ]
    },
    {
      "metadata": {
        "id": "QaDSQnjfmKU3",
        "colab_type": "text"
      },
      "source": [
        "The figure above in general demonstrates the effectiveness of Thompson Sampling compared to $\\epsilon$-greedy algorithms and UCB algorithms.\n",
        "\n",
        "For each choice over the number of arms from 3 to 12, 10 unique environments are created with probabilities randomly initialized between \\[0.1). In total there are 100 environments, and for each environment, each of the 3 algorithms are tested 10 rounds, with varying initializaton conditions, such as the $\\epsilon$ value for $\\epsilon$-greedy algorithm, which is randomly chosen between \\[0,1]; and c for the UCB algorithm which is randomly chosen between \\[1,2].\n",
        "\n",
        "As a result, for each of the three algorithms, 1000 simulations are tested."
      ],
      "cell_type": "markdown"
    },
    {
      "metadata": {
        "id": "s3F_0-aVji10",
        "colab_type": "code",
        "colab": {
          "autoexec": {
            "startup": false,
            "wait_interval": 0
          },
          "output_extras": [
            {
              "item_id": 10
            }
          ],
          "base_uri": "https://localhost:8080/",
          "height": 187
        },
        "outputId": "4898f76a-379e-44f9-82bc-cc73e9b479c0",
        "executionInfo": {
          "status": "ok",
          "timestamp": 1516569523567,
          "user_tz": 300,
          "elapsed": 491880,
          "user": {
            "displayName": "Zichao Yan",
            "photoUrl": "//lh3.googleusercontent.com/-lUGgNeiX7v8/AAAAAAAAAAI/AAAAAAAAABE/6cWBoWlDDyc/s50-c-k-no/photo.jpg",
            "userId": "105794893504586740188"
          }
        }
      },
      "source": [
        "n_steps = 5000\n",
        "# number of arms from 3 to 10\n",
        "arms = np.arange(3,13)\n",
        "# number of iterations in a specific number of arms\n",
        "env_iter = 10\n",
        "eps_agent_iter = 10\n",
        "ts_agent_iter = 10\n",
        "ucb_agent_iter = 10\n",
        "regrets_eps = []\n",
        "regrets_ts = []\n",
        "regrets_ucb = []\n",
        "  \n",
        "for n_arm in arms:\n",
        "  print('number of arms', n_arm)\n",
        "  for i in range(env_iter):\n",
        "    probs = np.random.rand(n_arm)\n",
        "    env = SimpleBandit(probs)\n",
        "    \n",
        "    # expriments for epsilon greedy algorithms\n",
        "    for eps in range(eps_agent_iter):\n",
        "      agent = EpsilonGreedyAgent(n_arm, epsilon = 0.05 + (np.random.rand()-0.5)*0.1)\n",
        "      expr = Experiment(agent, env, n_steps)\n",
        "      regrets_eps.append(np.array(expr.run()))\n",
        "                         \n",
        "    # expriments for Thompson sampling algorithms\n",
        "    for ts in range(ts_agent_iter):\n",
        "      agent = TSAgent(n_arm)\n",
        "      expr = Experiment(agent, env, n_steps)\n",
        "      regrets_ts.append(np.array(expr.run()))\n",
        "                         \n",
        "    # experiments for UCB sampling algorithms\n",
        "    for ucb in range(ucb_agent_iter):\n",
        "      agent = UCBAgent(np.random.rand()+1, n_arm)\n",
        "      expr = Experiment(agent, env, n_steps)\n",
        "      regrets_ucb.append(np.array(expr.run()))  "
      ],
      "cell_type": "code",
      "execution_count": 8,
      "outputs": [
        {
          "output_type": "stream",
          "text": [
            "number of arms 3\n",
            "number of arms 4\n",
            "number of arms 5\n",
            "number of arms 6\n",
            "number of arms 7\n",
            "number of arms 8\n",
            "number of arms 9\n",
            "number of arms 10\n",
            "number of arms 11\n",
            "number of arms 12\n"
          ],
          "name": "stdout"
        }
      ]
    },
    {
      "metadata": {
        "id": "v7zR1rfwsJlP",
        "colab_type": "code",
        "colab": {
          "autoexec": {
            "startup": false,
            "wait_interval": 0
          },
          "output_extras": [
            {
              "item_id": 1
            },
            {
              "item_id": 2
            }
          ],
          "base_uri": "https://localhost:8080/",
          "height": 393
        },
        "outputId": "fb38cc34-5aeb-42e3-c111-2bcf57c26ff5",
        "executionInfo": {
          "status": "ok",
          "timestamp": 1516571288332,
          "user_tz": 300,
          "elapsed": 1246,
          "user": {
            "displayName": "Zichao Yan",
            "photoUrl": "//lh3.googleusercontent.com/-lUGgNeiX7v8/AAAAAAAAAAI/AAAAAAAAABE/6cWBoWlDDyc/s50-c-k-no/photo.jpg",
            "userId": "105794893504586740188"
          }
        }
      },
      "source": [
        "avg_eps = np.array(regrets_eps).sum(axis=0)/len(regrets_eps)\n",
        "avg_ts = np.array(regrets_ts).sum(axis=0)/len(regrets_ts)\n",
        "avg_ucb = np.array(regrets_ucb).sum(axis=0)/len(regrets_ucb)\n",
        "\n",
        "plt.figure()\n",
        "plt.title('in 5000 steps')\n",
        "plt.xlabel('time step')\n",
        "plt.ylabel('regret')\n",
        "plt.plot(avg_eps, label='Epsilon Greedy')\n",
        "plt.plot(avg_ts, label = 'Thompson Sampling')\n",
        "plt.plot(avg_ucb, label = 'UCB')\n",
        "plt.legend()"
      ],
      "cell_type": "code",
      "execution_count": 11,
      "outputs": [
        {
          "output_type": "execute_result",
          "data": {
            "text/plain": [
              "<matplotlib.legend.Legend at 0x7f6826968198>"
            ]
          },
          "metadata": {
            "tags": []
          },
          "execution_count": 11
        },
        {
          "output_type": "display_data",
          "data": {
            "image/png": "[encoded data removed]",
            "text/plain": [
              "<matplotlib.figure.Figure at 0x7f6826ac02e8>"
            ]
          },
          "metadata": {
            "tags": []
          }
        }
      ]
    },
    {
      "metadata": {
        "id": "m2_eLVQlsf0N",
        "colab_type": "text"
      },
      "source": [
        "This figure demonstrates that in the end UCB algorithm is still better than $\\epsilon$-greedy algorithm, though more steps are needed to reflect this property."
      ],
      "cell_type": "markdown"
    },
    {
      "metadata": {
        "id": "hW8QmNThphoY",
        "colab_type": "code",
        "colab": {
          "autoexec": {
            "startup": false,
            "wait_interval": 0
          },
          "output_extras": [
            {
              "item_id": 10
            }
          ],
          "base_uri": "https://localhost:8080/",
          "height": 187
        },
        "outputId": "e9075b34-69ff-430b-aae1-beaca0b53429",
        "executionInfo": {
          "status": "ok",
          "timestamp": 1516504783023,
          "user_tz": 300,
          "elapsed": 1327079,
          "user": {
            "displayName": "Zichao Yan",
            "photoUrl": "//lh3.googleusercontent.com/-lUGgNeiX7v8/AAAAAAAAAAI/AAAAAAAAABE/6cWBoWlDDyc/s50-c-k-no/photo.jpg",
            "userId": "105794893504586740188"
          }
        }
      },
      "source": [
        "n_steps = 1000\n",
        "# number of arms from 3 to 10\n",
        "arms = np.arange(3,13)\n",
        "# number of iterations in a specific number of arms\n",
        "env_iter = 10\n",
        "eps_agent_iter = 100\n",
        "ts_agent_iter = 100\n",
        "ucb_agent_iter = 100\n",
        "regrets_eps = []\n",
        "regrets_ts = []\n",
        "regrets_ucb = []\n",
        "  \n",
        "for n_arm in arms:\n",
        "  print('number of arms', n_arm)\n",
        "  for i in range(env_iter):\n",
        "    probs = np.random.rand(n_arm)\n",
        "    env = SimpleBandit(probs)\n",
        "    \n",
        "    # expriments for epsilon greedy algorithms\n",
        "    for eps in range(eps_agent_iter):\n",
        "      agent = EpsilonGreedyAgent(n_arm, epsilon = 0.05 + (np.random.rand()-0.5)*0.1)\n",
        "      expr = Experiment(agent, env, n_steps)\n",
        "      regrets_eps.append(np.array(expr.run()))\n",
        "                         \n",
        "    # expriments for Thompson sampling algorithms\n",
        "    for ts in range(ts_agent_iter):\n",
        "      agent = TSAgent(n_arm)\n",
        "      expr = Experiment(agent, env, n_steps)\n",
        "      regrets_ts.append(np.array(expr.run()))\n",
        "                         \n",
        "    # experiments for UCB sampling algorithms\n",
        "    for ucb in range(ucb_agent_iter):\n",
        "      agent = UCBAgent(np.random.rand()+1, n_arm)\n",
        "      expr = Experiment(agent, env, n_steps)\n",
        "      regrets_ucb.append(np.array(expr.run()))  "
      ],
      "cell_type": "code",
      "execution_count": 102,
      "outputs": [
        {
          "output_type": "stream",
          "text": [
            "number of arms 3\n",
            "number of arms 4\n",
            "number of arms 5\n",
            "number of arms 6\n",
            "number of arms 7\n",
            "number of arms 8\n",
            "number of arms 9\n",
            "number of arms 10\n",
            "number of arms 11\n",
            "number of arms 12\n"
          ],
          "name": "stdout"
        }
      ]
    },
    {
      "metadata": {
        "id": "TZ0GoS7SplhL",
        "colab_type": "code",
        "colab": {
          "autoexec": {
            "startup": false,
            "wait_interval": 0
          },
          "output_extras": [
            {
              "item_id": 1
            },
            {
              "item_id": 2
            }
          ],
          "base_uri": "https://localhost:8080/",
          "height": 378
        },
        "outputId": "94545944-2189-4540-ef49-ca3cb1fe5f9e",
        "executionInfo": {
          "status": "ok",
          "timestamp": 1516504793604,
          "user_tz": 300,
          "elapsed": 671,
          "user": {
            "displayName": "Zichao Yan",
            "photoUrl": "//lh3.googleusercontent.com/-lUGgNeiX7v8/AAAAAAAAAAI/AAAAAAAAABE/6cWBoWlDDyc/s50-c-k-no/photo.jpg",
            "userId": "105794893504586740188"
          }
        }
      },
      "source": [
        "avg_eps = np.array(regrets_eps).sum(axis=0)/len(regrets_eps)\n",
        "avg_ts = np.array(regrets_ts).sum(axis=0)/len(regrets_ts)\n",
        "avg_ucb = np.array(regrets_ucb).sum(axis=0)/len(regrets_ucb)\n",
        "\n",
        "plt.figure()\n",
        "plt.xlabel('time step')\n",
        "plt.ylabel('regret')\n",
        "plt.plot(avg_eps, label='Epsilon Greedy')\n",
        "plt.plot(avg_ts, label = 'Thompson Sampling')\n",
        "plt.plot(avg_ucb, label = 'UCB')\n",
        "plt.legend()"
      ],
      "cell_type": "code",
      "execution_count": 103,
      "outputs": [
        {
          "output_type": "execute_result",
          "data": {
            "text/plain": [
              "<matplotlib.legend.Legend at 0x7f7f2f431e10>"
            ]
          },
          "metadata": {
            "tags": []
          },
          "execution_count": 103
        },
        {
          "output_type": "display_data",
          "data": {
            "image/png": "[encoded data removed]",
            "text/plain": [
              "<matplotlib.figure.Figure at 0x7f7f2f751898>"
            ]
          },
          "metadata": {
            "tags": []
          }
        }
      ]
    },
    {
      "metadata": {
        "id": "zld2KVnKuvT6",
        "colab_type": "text"
      },
      "source": [
        "Now every algorithm is experimented 10,000 times, and the figure is consistent with the last one. Now we can conclude that in the context of Bernoulli Multi-arms bandit problem, Thompson Sampling algorithm is the best of all in terms of minimizing regret per step. UCB algorithm is slow at convergence yet in the long run it can perform better than $\\epsilon$-greedy algorithm."
      ],
      "cell_type": "markdown"
    },
    {
      "metadata": {
        "id": "rydO94Ff38Jg",
        "colab_type": "text"
      },
      "source": [
        "##A grid search over hyperparameters\n",
        "This is to explain the superiority of the UCB algorithm over the $\\epsilon$-greedy algorithm, which is previous figure is not fully reflected."
      ],
      "cell_type": "markdown"
    },
    {
      "metadata": {
        "id": "F35RNpA04LDw",
        "colab_type": "code",
        "colab": {
          "autoexec": {
            "startup": false,
            "wait_interval": 0
          },
          "output_extras": [
            {
              "item_id": 10
            }
          ],
          "base_uri": "https://localhost:8080/",
          "height": 187
        },
        "outputId": "e499cf19-4a8d-49a0-8914-f6fd71eaa239",
        "executionInfo": {
          "status": "ok",
          "timestamp": 1516575915398,
          "user_tz": 300,
          "elapsed": 349094,
          "user": {
            "displayName": "Zichao Yan",
            "photoUrl": "//lh3.googleusercontent.com/-lUGgNeiX7v8/AAAAAAAAAAI/AAAAAAAAABE/6cWBoWlDDyc/s50-c-k-no/photo.jpg",
            "userId": "105794893504586740188"
          }
        }
      },
      "source": [
        "from collections import OrderedDict\n",
        "eps = [0, 0.05, 0.1, 0.15, 0.2] # for eps greedy algorithm\n",
        "cs = [0.1, 0.2, 0.5, 0.8, 1, 1.5, 2] # for \n",
        "\n",
        "n_steps = 1000\n",
        "arms = np.arange(3,13)\n",
        "env_iter = 10\n",
        "eps_agent_iter = 10\n",
        "ucb_agent_iter = 10\n",
        "regrets_eps = OrderedDict({})\n",
        "regrets_ucb = OrderedDict({})\n",
        "\n",
        "for n_arm in arms:\n",
        "  print('number of arms', n_arm)\n",
        "  for i in range(env_iter):\n",
        "    probs = np.random.rand(n_arm)\n",
        "    env = SimpleBandit(probs)\n",
        "    \n",
        "    for e in eps:\n",
        "      for _ in range(eps_agent_iter):\n",
        "        agent = EpsilonGreedyAgent(n_arm, epsilon = e)\n",
        "        expr = Experiment(agent, env, n_steps)\n",
        "        avg_regret = np.average(expr.run())\n",
        "        if e not in regrets_eps:\n",
        "          regrets_eps[e] = [avg_regret]\n",
        "        else:\n",
        "          regrets_eps[e].append(avg_regret)\n",
        "    \n",
        "    for c in cs:\n",
        "      for _ in range(ucb_agent_iter):\n",
        "        agent = UCBAgent(c, n_arm)\n",
        "        expr = Experiment(agent, env, n_steps)\n",
        "        avg_regret = np.average(expr.run())\n",
        "        if c not in regrets_ucb:\n",
        "          regrets_ucb[c] = [avg_regret]\n",
        "        else:\n",
        "          regrets_ucb[c].append(avg_regret)\n",
        "for e in regrets_eps:\n",
        "  regrets_eps[e] = np.average(regrets_eps[e])\n",
        "for c in regrets_ucb:\n",
        "  regrets_ucb[c] = np.average(regrets_ucb[c])"
      ],
      "cell_type": "code",
      "execution_count": 23,
      "outputs": [
        {
          "output_type": "stream",
          "text": [
            "number of arms 3\n",
            "number of arms 4\n",
            "number of arms 5\n",
            "number of arms 6\n",
            "number of arms 7\n",
            "number of arms 8\n",
            "number of arms 9\n",
            "number of arms 10\n",
            "number of arms 11\n",
            "number of arms 12\n"
          ],
          "name": "stdout"
        }
      ]
    },
    {
      "metadata": {
        "id": "SSjxSGwV7JxA",
        "colab_type": "code",
        "colab": {
          "autoexec": {
            "startup": false,
            "wait_interval": 0
          }
        }
      },
      "source": [
        "import matplotlib.pyplot as plt"
      ],
      "cell_type": "code",
      "execution_count": 0,
      "outputs": []
    },
    {
      "metadata": {
        "id": "GZ6OItUf84N-",
        "colab_type": "code",
        "colab": {
          "autoexec": {
            "startup": false,
            "wait_interval": 0
          },
          "output_extras": [
            {
              "item_id": 1
            },
            {
              "item_id": 2
            }
          ],
          "base_uri": "https://localhost:8080/",
          "height": 397
        },
        "outputId": "3504b9c3-f076-4c50-cd07-b6ecfa0f7377",
        "executionInfo": {
          "status": "ok",
          "timestamp": 1516576127513,
          "user_tz": 300,
          "elapsed": 1282,
          "user": {
            "displayName": "Zichao Yan",
            "photoUrl": "//lh3.googleusercontent.com/-lUGgNeiX7v8/AAAAAAAAAAI/AAAAAAAAABE/6cWBoWlDDyc/s50-c-k-no/photo.jpg",
            "userId": "105794893504586740188"
          }
        }
      },
      "source": [
        "plt.figure()\n",
        "plt.title('hyperparameter search')\n",
        "plt.xlabel('epsilon/c')\n",
        "plt.ylabel('average regret per step')\n",
        "plt.semilogx(list(regrets_eps.keys()), list(regrets_eps.values()), label='epsilon greedy')\n",
        "plt.semilogx(list(regrets_ucb.keys()), list(regrets_ucb.values()), label='UCB')\n",
        "plt.legend()"
      ],
      "cell_type": "code",
      "execution_count": 27,
      "outputs": [
        {
          "output_type": "execute_result",
          "data": {
            "text/plain": [
              "<matplotlib.legend.Legend at 0x7f6824883f98>"
            ]
          },
          "metadata": {
            "tags": []
          },
          "execution_count": 27
        },
        {
          "output_type": "display_data",
          "data": {
            "image/png": "[encoded data removed]",
            "text/plain": [
              "<matplotlib.figure.Figure at 0x7f6824732b00>"
            ]
          },
          "metadata": {
            "tags": []
          }
        }
      ]
    },
    {
      "metadata": {
        "id": "AVNvP3uh-RtF",
        "colab_type": "text"
      },
      "source": [
        "With this figure, it is sufficient to conclude that under current experiment setting, choosing c value (degree of optimism) to 0.2 yields a best general response in UCB algorithm."
      ],
      "cell_type": "markdown"
    }
  ]
}